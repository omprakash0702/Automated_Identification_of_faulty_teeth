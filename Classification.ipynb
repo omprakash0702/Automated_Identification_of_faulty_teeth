{
  "nbformat": 4,
  "nbformat_minor": 0,
  "metadata": {
    "colab": {
      "provenance": [],
      "gpuType": "T4"
    },
    "kernelspec": {
      "name": "python3",
      "display_name": "Python 3"
    },
    "language_info": {
      "name": "python"
    },
    "accelerator": "GPU"
  },
  "cells": [
    {
      "cell_type": "code",
      "execution_count": null,
      "metadata": {
        "id": "zc1aFO4D6-H3",
        "colab": {
          "base_uri": "https://localhost:8080/"
        },
        "outputId": "64079f14-db1d-4f16-938d-3b4bd46bf333"
      },
      "outputs": [
        {
          "output_type": "stream",
          "name": "stdout",
          "text": [
            "Found 483 images belonging to 2 classes.\n",
            "Found 15 images belonging to 2 classes.\n",
            "Downloading data from https://storage.googleapis.com/tensorflow/keras-applications/mobilenet_v2/mobilenet_v2_weights_tf_dim_ordering_tf_kernels_1.0_128_no_top.h5\n",
            "\u001b[1m9406464/9406464\u001b[0m \u001b[32m━━━━━━━━━━━━━━━━━━━━\u001b[0m\u001b[37m\u001b[0m \u001b[1m0s\u001b[0m 0us/step\n",
            "Epoch 1/10\n",
            "\u001b[1m16/16\u001b[0m \u001b[32m━━━━━━━━━━━━━━━━━━━━\u001b[0m\u001b[37m\u001b[0m \u001b[1m19s\u001b[0m 771ms/step - accuracy: 0.5761 - loss: 0.9413 - val_accuracy: 0.6667 - val_loss: 0.6626\n",
            "Epoch 2/10\n",
            "\u001b[1m16/16\u001b[0m \u001b[32m━━━━━━━━━━━━━━━━━━━━\u001b[0m\u001b[37m\u001b[0m \u001b[1m4s\u001b[0m 271ms/step - accuracy: 0.7367 - loss: 0.5116 - val_accuracy: 0.8000 - val_loss: 0.5916\n",
            "Epoch 3/10\n",
            "\u001b[1m16/16\u001b[0m \u001b[32m━━━━━━━━━━━━━━━━━━━━\u001b[0m\u001b[37m\u001b[0m \u001b[1m4s\u001b[0m 227ms/step - accuracy: 0.7886 - loss: 0.4504 - val_accuracy: 0.7333 - val_loss: 0.5851\n",
            "Epoch 4/10\n",
            "\u001b[1m16/16\u001b[0m \u001b[32m━━━━━━━━━━━━━━━━━━━━\u001b[0m\u001b[37m\u001b[0m \u001b[1m4s\u001b[0m 231ms/step - accuracy: 0.7669 - loss: 0.4544 - val_accuracy: 0.7333 - val_loss: 0.5734\n",
            "Epoch 5/10\n",
            "\u001b[1m16/16\u001b[0m \u001b[32m━━━━━━━━━━━━━━━━━━━━\u001b[0m\u001b[37m\u001b[0m \u001b[1m4s\u001b[0m 254ms/step - accuracy: 0.8364 - loss: 0.3789 - val_accuracy: 0.6667 - val_loss: 0.5376\n",
            "Epoch 6/10\n",
            "\u001b[1m16/16\u001b[0m \u001b[32m━━━━━━━━━━━━━━━━━━━━\u001b[0m\u001b[37m\u001b[0m \u001b[1m4s\u001b[0m 257ms/step - accuracy: 0.8574 - loss: 0.3505 - val_accuracy: 0.6667 - val_loss: 0.5073\n",
            "Epoch 7/10\n",
            "\u001b[1m16/16\u001b[0m \u001b[32m━━━━━━━━━━━━━━━━━━━━\u001b[0m\u001b[37m\u001b[0m \u001b[1m4s\u001b[0m 232ms/step - accuracy: 0.8869 - loss: 0.2965 - val_accuracy: 0.6667 - val_loss: 0.5648\n",
            "Epoch 8/10\n",
            "\u001b[1m16/16\u001b[0m \u001b[32m━━━━━━━━━━━━━━━━━━━━\u001b[0m\u001b[37m\u001b[0m \u001b[1m4s\u001b[0m 233ms/step - accuracy: 0.8592 - loss: 0.3155 - val_accuracy: 0.6000 - val_loss: 0.6895\n",
            "Epoch 9/10\n",
            "\u001b[1m16/16\u001b[0m \u001b[32m━━━━━━━━━━━━━━━━━━━━\u001b[0m\u001b[37m\u001b[0m \u001b[1m5s\u001b[0m 282ms/step - accuracy: 0.8964 - loss: 0.2495 - val_accuracy: 0.6667 - val_loss: 0.5157\n",
            "Epoch 10/10\n",
            "\u001b[1m16/16\u001b[0m \u001b[32m━━━━━━━━━━━━━━━━━━━━\u001b[0m\u001b[37m\u001b[0m \u001b[1m4s\u001b[0m 236ms/step - accuracy: 0.9197 - loss: 0.2265 - val_accuracy: 0.6667 - val_loss: 0.5056\n"
          ]
        }
      ],
      "source": [
        "import tensorflow as tf\n",
        "from tensorflow import keras\n",
        "from tensorflow.keras import layers\n",
        "from tensorflow.keras.applications import MobileNetV2\n",
        "from tensorflow.keras.preprocessing.image import ImageDataGenerator\n",
        "import numpy as np\n",
        "\n",
        "# Define image dimensions and batch size\n",
        "IMG_SIZE = (128, 128)\n",
        "BATCH_SIZE = 32\n",
        "\n",
        "# Data augmentation and preprocessing\n",
        "datagen = ImageDataGenerator(\n",
        "    rescale=1./255,\n",
        "    validation_split=0.2\n",
        ")\n",
        "\n",
        "# Load training and validation data\n",
        "train_data = datagen.flow_from_directory(\n",
        "    '/content/drive/MyDrive/Dental_V12/Dental_V1/train',\n",
        "    target_size=IMG_SIZE,\n",
        "    batch_size=BATCH_SIZE,\n",
        "    class_mode='binary',\n",
        "    subset='training'\n",
        ")\n",
        "\n",
        "val_data = datagen.flow_from_directory(\n",
        "    '/content/drive/MyDrive/Dental_V12/Dental_V1/val',\n",
        "    target_size=IMG_SIZE,\n",
        "    batch_size=BATCH_SIZE,\n",
        "    class_mode='binary',\n",
        "    subset='validation'\n",
        ")\n",
        "\n",
        "# Load the MobileNetV2 base model (excluding the top layer)\n",
        "base_model = MobileNetV2(weights='imagenet', include_top=False, input_shape=(128, 128, 3))\n",
        "\n",
        "# Freeze the base model to avoid retraining its weights\n",
        "base_model.trainable = False\n",
        "\n",
        "# Build the full model\n",
        "model = keras.Sequential([\n",
        "    base_model,\n",
        "    layers.GlobalAveragePooling2D(),\n",
        "    layers.Dense(128, activation='relu'),\n",
        "    layers.Dropout(0.5),\n",
        "    layers.Dense(1, activation='sigmoid')\n",
        "])\n",
        "\n",
        "# Compile the model\n",
        "model.compile(\n",
        "    optimizer='adam',\n",
        "    loss='binary_crossentropy',\n",
        "    metrics=['accuracy']\n",
        ")\n",
        "\n",
        "# Train the model\n",
        "epochs = 10\n",
        "history = model.fit(train_data, validation_data=val_data, epochs=epochs)\n"
      ]
    },
    {
      "source": [
        "from google.colab import drive\n",
        "drive.mount('/content/drive')"
      ],
      "cell_type": "code",
      "metadata": {
        "colab": {
          "base_uri": "https://localhost:8080/"
        },
        "id": "dU_lPa99Mf2I",
        "outputId": "2a30bddd-b06d-4c76-c089-6067f2c84041"
      },
      "execution_count": null,
      "outputs": [
        {
          "output_type": "stream",
          "name": "stdout",
          "text": [
            "Mounted at /content/drive\n"
          ]
        }
      ]
    },
    {
      "cell_type": "code",
      "source": [
        "def predict_image(image_path, model):\n",
        "    from tensorflow.keras.preprocessing import image\n",
        "    img = image.load_img(image_path, target_size=IMG_SIZE)\n",
        "    img_array = image.img_to_array(img) / 255.0\n",
        "    img_array = np.expand_dims(img_array, axis=0)\n",
        "    prediction = model.predict(img_array)\n",
        "    return \"Normal\" if prediction[0][0] > 0.5 else \"Abnormal\"\n"
      ],
      "metadata": {
        "id": "f5R2S9SE7AEA"
      },
      "execution_count": null,
      "outputs": []
    },
    {
      "cell_type": "code",
      "source": [
        "from sklearn.metrics import classification_report, confusion_matrix\n",
        "import numpy as np\n",
        "\n",
        "# Get true labels and predicted labels\n",
        "val_data.reset()  # Reset generator to start from the beginning\n",
        "pred_probs = model.predict(val_data, verbose=1)\n",
        "pred_labels = (pred_probs > 0.5).astype(int).flatten()\n",
        "true_labels = val_data.classes\n",
        "\n",
        "# Print classification report\n",
        "print(\"Classification Report:\")\n",
        "print(classification_report(true_labels, pred_labels, target_names=[\"Abnormal\", \"Normal\"]))\n",
        "\n",
        "# Print confusion matrix\n",
        "print(\"Confusion Matrix:\")\n",
        "cm = confusion_matrix(true_labels, pred_labels)\n",
        "print(cm)\n"
      ],
      "metadata": {
        "colab": {
          "base_uri": "https://localhost:8080/"
        },
        "id": "m-ZGTll0PWDr",
        "outputId": "3711de91-c1e3-40f3-a8a3-cabee28405d3"
      },
      "execution_count": null,
      "outputs": [
        {
          "output_type": "stream",
          "name": "stdout",
          "text": [
            "\u001b[1m1/1\u001b[0m \u001b[32m━━━━━━━━━━━━━━━━━━━━\u001b[0m\u001b[37m\u001b[0m \u001b[1m9s\u001b[0m 9s/step\n",
            "Classification Report:\n",
            "              precision    recall  f1-score   support\n",
            "\n",
            "    Abnormal       0.60      0.50      0.55         6\n",
            "      Normal       0.70      0.78      0.74         9\n",
            "\n",
            "    accuracy                           0.67        15\n",
            "   macro avg       0.65      0.64      0.64        15\n",
            "weighted avg       0.66      0.67      0.66        15\n",
            "\n",
            "Confusion Matrix:\n",
            "[[3 3]\n",
            " [2 7]]\n"
          ]
        }
      ]
    },
    {
      "cell_type": "code",
      "source": [
        "import tensorflow as tf\n",
        "from tensorflow import keras\n",
        "from tensorflow.keras import layers, models\n",
        "import numpy as np\n",
        "import matplotlib.pyplot as plt\n",
        "import os\n",
        "import shutil\n",
        "from tensorflow.keras.preprocessing.image import ImageDataGenerator\n",
        "from tensorflow.keras.preprocessing import image\n",
        "from sklearn.metrics import confusion_matrix, classification_report\n",
        "import seaborn as sns\n",
        "import shutil\n",
        "\n",
        "# Define image dimensions and batch size\n",
        "IMG_SIZE = (128, 128)\n",
        "BATCH_SIZE = 32\n",
        "\n",
        "# Data augmentation and preprocessing\n",
        "datagen = ImageDataGenerator(\n",
        "    rescale=1./255,\n",
        "    validation_split=0.2\n",
        ")\n",
        "\n",
        "# Load training and validation data\n",
        "train_data = datagen.flow_from_directory(\n",
        "    '/content/drive/MyDrive/Dental_V12/Dental_V1/train',  # Path to dataset\n",
        "    target_size=IMG_SIZE,\n",
        "    batch_size=BATCH_SIZE,\n",
        "    class_mode='binary',  # Binary classification (normal/abnormal)\n",
        "    subset='training'\n",
        ")\n",
        "\n",
        "val_data = datagen.flow_from_directory(\n",
        "    '/content/drive/MyDrive/Dental_V12/Dental_V1/train',\n",
        "    target_size=IMG_SIZE,\n",
        "    batch_size=BATCH_SIZE,\n",
        "    class_mode='binary',\n",
        "    subset='validation'\n",
        ")\n",
        "\n",
        "# Use Functional API for a more flexible model\n",
        "def build_model(input_shape):\n",
        "    inputs = keras.Input(shape=input_shape)\n",
        "    x = layers.Conv2D(32, (3,3), activation='relu')(inputs)\n",
        "    x = layers.MaxPooling2D(2,2)(x)\n",
        "    x = layers.Conv2D(64, (3,3), activation='relu')(x)\n",
        "    x = layers.MaxPooling2D(2,2)(x)\n",
        "    x = layers.Conv2D(128, (3,3), activation='relu')(x)\n",
        "    x = layers.MaxPooling2D(2,2)(x)\n",
        "    x = layers.Flatten()(x)\n",
        "    x = layers.Dense(256, activation='relu')(x)\n",
        "    x = layers.Dropout(0.5)(x)\n",
        "    outputs = layers.Dense(1, activation='sigmoid')(x)\n",
        "    model = keras.Model(inputs=inputs, outputs=outputs)\n",
        "    return model\n",
        "\n",
        "# Build and compile the model\n",
        "model = build_model((128, 128, 3))\n",
        "model.compile(\n",
        "    optimizer='adam',\n",
        "    loss='binary_crossentropy',\n",
        "    metrics=['accuracy']\n",
        ")\n",
        "\n",
        "# Train the model\n",
        "epochs = 10\n",
        "history = model.fit(train_data, validation_data=val_data, epochs=epochs)\n",
        "\n",
        "# Save the model\n",
        "# model.save(\"/content/drive/MyDrive/Final Year Project/Tooth_classification/tooth_classification_model_functional.h5\")\n",
        "\n",
        "# Load test dataset\n",
        "test_datagen = ImageDataGenerator(rescale=1./255)\n",
        "\n",
        "test_data = test_datagen.flow_from_directory(\n",
        "    '/content/drive/MyDrive/Dental_V12/Dental_V1/val',  # Path to test dataset\n",
        "    target_size=IMG_SIZE,\n",
        "    batch_size=BATCH_SIZE,\n",
        "    class_mode='binary',\n",
        "    shuffle=False\n",
        ")\n",
        "\n",
        "# Get predictions and true labels\n",
        "y_true = test_data.classes\n",
        "y_pred_probs = model.predict(test_data)\n",
        "y_pred = (y_pred_probs > 0.5).astype(int).flatten()\n",
        "\n",
        "# Compute confusion matrix\n",
        "cm = confusion_matrix(y_true, y_pred)\n",
        "\n",
        "# Plot confusion matrix\n",
        "plt.figure(figsize=(6,6))\n",
        "sns.heatmap(cm, annot=True, fmt='d', cmap='Blues', xticklabels=['Normal', 'Abnormal'], yticklabels=['Normal', 'Abnormal'])\n",
        "plt.xlabel('Predicted')\n",
        "plt.ylabel('Actual')\n",
        "plt.title('Confusion Matrix')\n",
        "plt.show()\n",
        "\n",
        "# Print classification report\n",
        "print(classification_report(y_true, y_pred, target_names=['Normal', 'Abnormal']))\n",
        "\n",
        "# Function to predict and segregate images\n",
        "def segregate_images(source_folder, model):\n",
        "    normal_folder = os.path.join(source_folder, 'normal')\n",
        "    abnormal_folder = os.path.join(source_folder, 'abnormal')\n",
        "\n",
        "    # Create directories if they don't exist\n",
        "    os.makedirs(normal_folder, exist_ok=True)\n",
        "    os.makedirs(abnormal_folder, exist_ok=True)\n",
        "\n",
        "    for img_name in os.listdir(source_folder):\n",
        "        img_path = os.path.join(source_folder, img_name)\n",
        "\n",
        "        if os.path.isfile(img_path):  # Ensure it's a file\n",
        "            img = image.load_img(img_path, target_size=IMG_SIZE)\n",
        "            img_array = image.img_to_array(img)/255.0\n",
        "            img_array = np.expand_dims(img_array, axis=0)\n",
        "            prediction = model.predict(img_array)\n",
        "\n",
        "            if prediction[0][0] > 0.5:\n",
        "                shutil.copy(img_path, os.path.join(abnormal_folder, img_name))\n",
        "            else:\n",
        "                shutil.copy(img_path, os.path.join(normal_folder, img_name))\n",
        "\n",
        "# Load saved model and segregate images\n",
        "# loaded_model = keras.models.load_model(\"/content/drive/MyDrive/Final Year Project/Tooth_classification/tooth_classification_model_functional.h5\")\n",
        "# segregate_images(\"/content/drive/MyDrive/Final Year Project/Tooth_classification/Dental_V1/test\", loaded_model)  # Change 'test_images' to the folder containing images to classify\n"
      ],
      "metadata": {
        "id": "SyFsTODpPgz8",
        "colab": {
          "base_uri": "https://localhost:8080/",
          "height": 1000
        },
        "outputId": "42add81f-7633-4309-d463-736f5d352119"
      },
      "execution_count": null,
      "outputs": [
        {
          "output_type": "stream",
          "name": "stdout",
          "text": [
            "Found 483 images belonging to 2 classes.\n",
            "Found 120 images belonging to 2 classes.\n"
          ]
        },
        {
          "output_type": "stream",
          "name": "stderr",
          "text": [
            "/usr/local/lib/python3.11/dist-packages/keras/src/trainers/data_adapters/py_dataset_adapter.py:121: UserWarning: Your `PyDataset` class should call `super().__init__(**kwargs)` in its constructor. `**kwargs` can include `workers`, `use_multiprocessing`, `max_queue_size`. Do not pass these arguments to `fit()`, as they will be ignored.\n",
            "  self._warn_if_super_not_called()\n"
          ]
        },
        {
          "output_type": "stream",
          "name": "stdout",
          "text": [
            "Epoch 1/10\n",
            "\u001b[1m16/16\u001b[0m \u001b[32m━━━━━━━━━━━━━━━━━━━━\u001b[0m\u001b[37m\u001b[0m \u001b[1m10s\u001b[0m 475ms/step - accuracy: 0.4736 - loss: 0.9912 - val_accuracy: 0.4917 - val_loss: 0.6939\n",
            "Epoch 2/10\n",
            "\u001b[1m16/16\u001b[0m \u001b[32m━━━━━━━━━━━━━━━━━━━━\u001b[0m\u001b[37m\u001b[0m \u001b[1m4s\u001b[0m 273ms/step - accuracy: 0.5077 - loss: 0.7014 - val_accuracy: 0.4917 - val_loss: 0.6952\n",
            "Epoch 3/10\n",
            "\u001b[1m16/16\u001b[0m \u001b[32m━━━━━━━━━━━━━━━━━━━━\u001b[0m\u001b[37m\u001b[0m \u001b[1m5s\u001b[0m 305ms/step - accuracy: 0.5220 - loss: 0.6922 - val_accuracy: 0.4500 - val_loss: 0.6971\n",
            "Epoch 4/10\n",
            "\u001b[1m16/16\u001b[0m \u001b[32m━━━━━━━━━━━━━━━━━━━━\u001b[0m\u001b[37m\u001b[0m \u001b[1m5s\u001b[0m 325ms/step - accuracy: 0.6104 - loss: 0.6817 - val_accuracy: 0.4750 - val_loss: 0.7188\n",
            "Epoch 5/10\n",
            "\u001b[1m16/16\u001b[0m \u001b[32m━━━━━━━━━━━━━━━━━━━━\u001b[0m\u001b[37m\u001b[0m \u001b[1m4s\u001b[0m 279ms/step - accuracy: 0.5976 - loss: 0.6637 - val_accuracy: 0.4333 - val_loss: 0.6908\n",
            "Epoch 6/10\n",
            "\u001b[1m16/16\u001b[0m \u001b[32m━━━━━━━━━━━━━━━━━━━━\u001b[0m\u001b[37m\u001b[0m \u001b[1m5s\u001b[0m 332ms/step - accuracy: 0.5992 - loss: 0.6538 - val_accuracy: 0.4500 - val_loss: 0.6944\n",
            "Epoch 7/10\n",
            "\u001b[1m16/16\u001b[0m \u001b[32m━━━━━━━━━━━━━━━━━━━━\u001b[0m\u001b[37m\u001b[0m \u001b[1m5s\u001b[0m 289ms/step - accuracy: 0.6955 - loss: 0.6047 - val_accuracy: 0.4167 - val_loss: 0.7291\n",
            "Epoch 8/10\n",
            "\u001b[1m16/16\u001b[0m \u001b[32m━━━━━━━━━━━━━━━━━━━━\u001b[0m\u001b[37m\u001b[0m \u001b[1m5s\u001b[0m 285ms/step - accuracy: 0.6956 - loss: 0.5422 - val_accuracy: 0.4083 - val_loss: 0.7451\n",
            "Epoch 9/10\n",
            "\u001b[1m16/16\u001b[0m \u001b[32m━━━━━━━━━━━━━━━━━━━━\u001b[0m\u001b[37m\u001b[0m \u001b[1m5s\u001b[0m 343ms/step - accuracy: 0.7673 - loss: 0.5148 - val_accuracy: 0.4167 - val_loss: 0.9706\n",
            "Epoch 10/10\n",
            "\u001b[1m16/16\u001b[0m \u001b[32m━━━━━━━━━━━━━━━━━━━━\u001b[0m\u001b[37m\u001b[0m \u001b[1m4s\u001b[0m 274ms/step - accuracy: 0.7866 - loss: 0.4363 - val_accuracy: 0.4667 - val_loss: 0.9795\n",
            "Found 79 images belonging to 2 classes.\n",
            "\u001b[1m3/3\u001b[0m \u001b[32m━━━━━━━━━━━━━━━━━━━━\u001b[0m\u001b[37m\u001b[0m \u001b[1m1s\u001b[0m 197ms/step\n"
          ]
        },
        {
          "output_type": "display_data",
          "data": {
            "text/plain": [
              "<Figure size 600x600 with 2 Axes>"
            ],
            "image/png": "[encoded data removed]"
          },
          "metadata": {}
        },
        {
          "output_type": "stream",
          "name": "stdout",
          "text": [
            "              precision    recall  f1-score   support\n",
            "\n",
            "      Normal       0.69      0.62      0.66        32\n",
            "    Abnormal       0.76      0.81      0.78        47\n",
            "\n",
            "    accuracy                           0.73        79\n",
            "   macro avg       0.72      0.72      0.72        79\n",
            "weighted avg       0.73      0.73      0.73        79\n",
            "\n"
          ]
        }
      ]
    },
    {
      "cell_type": "code",
      "source": [
        "import tensorflow as tf\n",
        "from tensorflow import keras\n",
        "from tensorflow.keras import layers, models\n",
        "import numpy as np\n",
        "import matplotlib.pyplot as plt\n",
        "import os\n",
        "import shutil\n",
        "from tensorflow.keras.preprocessing.image import ImageDataGenerator\n",
        "from tensorflow.keras.preprocessing import image\n",
        "from sklearn.metrics import confusion_matrix, classification_report\n",
        "import seaborn as sns\n",
        "\n",
        "# Define image dimensions and batch size\n",
        "IMG_SIZE = (128, 128)\n",
        "BATCH_SIZE = 32\n",
        "\n",
        "# Data augmentation and preprocessing\n",
        "datagen = ImageDataGenerator(\n",
        "    rescale=1./255,\n",
        "    validation_split=0.2\n",
        ")\n",
        "\n",
        "# Load training and validation data\n",
        "train_data = datagen.flow_from_directory(\n",
        "    '/content/drive/MyDrive/Dental_V12/Dental_V1/train',\n",
        "    target_size=IMG_SIZE,\n",
        "    batch_size=BATCH_SIZE,\n",
        "    class_mode='binary',\n",
        "    subset='training'\n",
        ")\n",
        "\n",
        "val_data = datagen.flow_from_directory(\n",
        "    '/content/drive/MyDrive/Dental_V12/Dental_V1/train',\n",
        "    target_size=IMG_SIZE,\n",
        "    batch_size=BATCH_SIZE,\n",
        "    class_mode='binary',\n",
        "    subset='validation'\n",
        ")\n",
        "\n",
        "# Build the model using MobileNetV2\n",
        "def build_mobilenet_model(input_shape):\n",
        "    base_model = tf.keras.applications.MobileNetV2(\n",
        "        input_shape=input_shape,\n",
        "        include_top=False,\n",
        "        weights='imagenet'\n",
        "    )\n",
        "    base_model.trainable = False  # Freeze the base model for initial training\n",
        "\n",
        "    inputs = keras.Input(shape=input_shape)\n",
        "    x = base_model(inputs, training=False)\n",
        "    x = layers.GlobalAveragePooling2D()(x)\n",
        "    x = layers.Dense(128, activation='relu')(x)\n",
        "    x = layers.Dropout(0.5)(x)\n",
        "    outputs = layers.Dense(1, activation='sigmoid')(x)\n",
        "\n",
        "    model = keras.Model(inputs, outputs)\n",
        "    return model\n",
        "\n",
        "# Compile the model\n",
        "mobilenet_model = build_mobilenet_model((128, 128, 3))\n",
        "mobilenet_model.compile(optimizer='adam', loss='binary_crossentropy', metrics=['accuracy'])\n",
        "\n",
        "# Train the model\n",
        "epochs = 10\n",
        "history = mobilenet_model.fit(train_data, validation_data=val_data, epochs=epochs)\n",
        "\n",
        "# Load test dataset\n",
        "test_datagen = ImageDataGenerator(rescale=1./255)\n",
        "\n",
        "test_data = test_datagen.flow_from_directory(\n",
        "    '/content/drive/MyDrive/Dental_V12/Dental_V1/val',\n",
        "    target_size=IMG_SIZE,\n",
        "    batch_size=BATCH_SIZE,\n",
        "    class_mode='binary',\n",
        "    shuffle=False\n",
        ")\n",
        "\n",
        "# Get predictions and true labels\n",
        "y_true = test_data.classes\n",
        "y_pred_probs = mobilenet_model.predict(test_data)\n",
        "y_pred = (y_pred_probs > 0.5).astype(int).flatten()\n",
        "\n",
        "# Compute confusion matrix\n",
        "cm = confusion_matrix(y_true, y_pred)\n",
        "\n",
        "# Plot confusion matrix\n",
        "plt.figure(figsize=(6, 6))\n",
        "sns.heatmap(cm, annot=True, fmt='d', cmap='Blues', xticklabels=['Normal', 'Abnormal'], yticklabels=['Normal', 'Abnormal'])\n",
        "plt.xlabel('Predicted')\n",
        "plt.ylabel('Actual')\n",
        "plt.title('Confusion Matrix')\n",
        "plt.show()\n",
        "\n",
        "# Print classification report\n",
        "print(classification_report(y_true, y_pred, target_names=['Normal', 'Abnormal']))\n",
        "\n",
        "# Function to predict and segregate images\n",
        "def segregate_images(source_folder, model):\n",
        "    normal_folder = os.path.join(source_folder, 'normal')\n",
        "    abnormal_folder = os.path.join(source_folder, 'abnormal')\n",
        "\n",
        "    os.makedirs(normal_folder, exist_ok=True)\n",
        "    os.makedirs(abnormal_folder, exist_ok=True)\n",
        "\n",
        "    for img_name in os.listdir(source_folder):\n",
        "        img_path = os.path.join(source_folder, img_name)\n",
        "\n",
        "        if os.path.isfile(img_path):\n",
        "            img = image.load_img(img_path, target_size=IMG_SIZE)\n",
        "            img_array = image.img_to_array(img)/255.0\n",
        "            img_array = np.expand_dims(img_array, axis=0)\n",
        "            prediction = model.predict(img_array)\n",
        "\n",
        "            if prediction[0][0] > 0.5:\n",
        "                shutil.copy(img_path, os.path.join(abnormal_folder, img_name))\n",
        "            else:\n",
        "                shutil.copy(img_path, os.path.join(normal_folder, img_name))\n",
        "\n",
        "# Example to use model and segregate images (uncomment to use):\n",
        "# mobilenet_model.save(\"/content/drive/MyDrive/Final Year Project/Tooth_classification/mobilenet_model.h5\")\n",
        "# loaded_model = keras.models.load_model(\"/content/drive/MyDrive/Final Year Project/Tooth_classification/mobilenet_model.h5\")\n",
        "# segregate_images(\"/content/drive/MyDrive/Final Year Project/Tooth_classification/Dental_V1/test\", loaded_model)\n"
      ],
      "metadata": {
        "colab": {
          "base_uri": "https://localhost:8080/",
          "height": 1000
        },
        "id": "VMx5WLK_28Kk",
        "outputId": "4cc955d7-ceaf-4c2a-bca4-0b21bd461b4b"
      },
      "execution_count": null,
      "outputs": [
        {
          "output_type": "stream",
          "name": "stdout",
          "text": [
            "Found 483 images belonging to 2 classes.\n",
            "Found 120 images belonging to 2 classes.\n",
            "Downloading data from https://storage.googleapis.com/tensorflow/keras-applications/mobilenet_v2/mobilenet_v2_weights_tf_dim_ordering_tf_kernels_1.0_128_no_top.h5\n",
            "\u001b[1m9406464/9406464\u001b[0m \u001b[32m━━━━━━━━━━━━━━━━━━━━\u001b[0m\u001b[37m\u001b[0m \u001b[1m0s\u001b[0m 0us/step\n"
          ]
        },
        {
          "output_type": "stream",
          "name": "stderr",
          "text": [
            "/usr/local/lib/python3.11/dist-packages/keras/src/trainers/data_adapters/py_dataset_adapter.py:121: UserWarning: Your `PyDataset` class should call `super().__init__(**kwargs)` in its constructor. `**kwargs` can include `workers`, `use_multiprocessing`, `max_queue_size`. Do not pass these arguments to `fit()`, as they will be ignored.\n",
            "  self._warn_if_super_not_called()\n"
          ]
        },
        {
          "output_type": "stream",
          "name": "stdout",
          "text": [
            "Epoch 1/10\n",
            "\u001b[1m16/16\u001b[0m \u001b[32m━━━━━━━━━━━━━━━━━━━━\u001b[0m\u001b[37m\u001b[0m \u001b[1m24s\u001b[0m 937ms/step - accuracy: 0.5556 - loss: 0.9306 - val_accuracy: 0.5667 - val_loss: 0.7375\n",
            "Epoch 2/10\n",
            "\u001b[1m16/16\u001b[0m \u001b[32m━━━━━━━━━━━━━━━━━━━━\u001b[0m\u001b[37m\u001b[0m \u001b[1m5s\u001b[0m 289ms/step - accuracy: 0.7001 - loss: 0.5940 - val_accuracy: 0.5333 - val_loss: 0.7326\n",
            "Epoch 3/10\n",
            "\u001b[1m16/16\u001b[0m \u001b[32m━━━━━━━━━━━━━━━━━━━━\u001b[0m\u001b[37m\u001b[0m \u001b[1m5s\u001b[0m 331ms/step - accuracy: 0.7860 - loss: 0.4688 - val_accuracy: 0.5750 - val_loss: 0.7408\n",
            "Epoch 4/10\n",
            "\u001b[1m16/16\u001b[0m \u001b[32m━━━━━━━━━━━━━━━━━━━━\u001b[0m\u001b[37m\u001b[0m \u001b[1m4s\u001b[0m 281ms/step - accuracy: 0.8214 - loss: 0.3991 - val_accuracy: 0.5333 - val_loss: 0.7864\n",
            "Epoch 5/10\n",
            "\u001b[1m16/16\u001b[0m \u001b[32m━━━━━━━━━━━━━━━━━━━━\u001b[0m\u001b[37m\u001b[0m \u001b[1m4s\u001b[0m 280ms/step - accuracy: 0.8064 - loss: 0.3703 - val_accuracy: 0.5583 - val_loss: 0.7327\n",
            "Epoch 6/10\n",
            "\u001b[1m16/16\u001b[0m \u001b[32m━━━━━━━━━━━━━━━━━━━━\u001b[0m\u001b[37m\u001b[0m \u001b[1m5s\u001b[0m 327ms/step - accuracy: 0.8920 - loss: 0.2993 - val_accuracy: 0.5917 - val_loss: 0.7290\n",
            "Epoch 7/10\n",
            "\u001b[1m16/16\u001b[0m \u001b[32m━━━━━━━━━━━━━━━━━━━━\u001b[0m\u001b[37m\u001b[0m \u001b[1m4s\u001b[0m 272ms/step - accuracy: 0.8763 - loss: 0.2919 - val_accuracy: 0.6083 - val_loss: 0.7278\n",
            "Epoch 8/10\n",
            "\u001b[1m16/16\u001b[0m \u001b[32m━━━━━━━━━━━━━━━━━━━━\u001b[0m\u001b[37m\u001b[0m \u001b[1m4s\u001b[0m 276ms/step - accuracy: 0.8816 - loss: 0.2867 - val_accuracy: 0.6000 - val_loss: 0.7316\n",
            "Epoch 9/10\n",
            "\u001b[1m16/16\u001b[0m \u001b[32m━━━━━━━━━━━━━━━━━━━━\u001b[0m\u001b[37m\u001b[0m \u001b[1m6s\u001b[0m 301ms/step - accuracy: 0.9378 - loss: 0.2141 - val_accuracy: 0.6083 - val_loss: 0.7518\n",
            "Epoch 10/10\n",
            "\u001b[1m16/16\u001b[0m \u001b[32m━━━━━━━━━━━━━━━━━━━━\u001b[0m\u001b[37m\u001b[0m \u001b[1m4s\u001b[0m 284ms/step - accuracy: 0.9366 - loss: 0.1947 - val_accuracy: 0.6250 - val_loss: 0.7553\n",
            "Found 79 images belonging to 2 classes.\n"
          ]
        },
        {
          "output_type": "stream",
          "name": "stderr",
          "text": [
            "WARNING:tensorflow:5 out of the last 7 calls to <function TensorFlowTrainer.make_predict_function.<locals>.one_step_on_data_distributed at 0x7d4896143ec0> triggered tf.function retracing. Tracing is expensive and the excessive number of tracings could be due to (1) creating @tf.function repeatedly in a loop, (2) passing tensors with different shapes, (3) passing Python objects instead of tensors. For (1), please define your @tf.function outside of the loop. For (2), @tf.function has reduce_retracing=True option that can avoid unnecessary retracing. For (3), please refer to https://www.tensorflow.org/guide/function#controlling_retracing and https://www.tensorflow.org/api_docs/python/tf/function for  more details.\n"
          ]
        },
        {
          "output_type": "stream",
          "name": "stdout",
          "text": [
            "\r\u001b[1m1/3\u001b[0m \u001b[32m━━━━━━\u001b[0m\u001b[37m━━━━━━━━━━━━━━\u001b[0m \u001b[1m7s\u001b[0m 4s/step"
          ]
        },
        {
          "output_type": "stream",
          "name": "stderr",
          "text": [
            "WARNING:tensorflow:6 out of the last 9 calls to <function TensorFlowTrainer.make_predict_function.<locals>.one_step_on_data_distributed at 0x7d4896143ec0> triggered tf.function retracing. Tracing is expensive and the excessive number of tracings could be due to (1) creating @tf.function repeatedly in a loop, (2) passing tensors with different shapes, (3) passing Python objects instead of tensors. For (1), please define your @tf.function outside of the loop. For (2), @tf.function has reduce_retracing=True option that can avoid unnecessary retracing. For (3), please refer to https://www.tensorflow.org/guide/function#controlling_retracing and https://www.tensorflow.org/api_docs/python/tf/function for  more details.\n"
          ]
        },
        {
          "output_type": "stream",
          "name": "stdout",
          "text": [
            "\u001b[1m3/3\u001b[0m \u001b[32m━━━━━━━━━━━━━━━━━━━━\u001b[0m\u001b[37m\u001b[0m \u001b[1m8s\u001b[0m 2s/step\n"
          ]
        },
        {
          "output_type": "display_data",
          "data": {
            "text/plain": [
              "<Figure size 600x600 with 2 Axes>"
            ],
            "image/png": "[encoded data removed]"
          },
          "metadata": {}
        },
        {
          "output_type": "stream",
          "name": "stdout",
          "text": [
            "              precision    recall  f1-score   support\n",
            "\n",
            "      Normal       0.84      0.50      0.63        32\n",
            "    Abnormal       0.73      0.94      0.82        47\n",
            "\n",
            "    accuracy                           0.76        79\n",
            "   macro avg       0.79      0.72      0.72        79\n",
            "weighted avg       0.78      0.76      0.74        79\n",
            "\n"
          ]
        }
      ]
    },
    {
      "cell_type": "code",
      "source": [
        "import tensorflow as tf\n",
        "from tensorflow import keras\n",
        "from tensorflow.keras import layers, models\n",
        "import numpy as np\n",
        "import matplotlib.pyplot as plt\n",
        "import os\n",
        "import shutil\n",
        "from tensorflow.keras.preprocessing.image import ImageDataGenerator\n",
        "from tensorflow.keras.preprocessing import image\n",
        "from sklearn.metrics import confusion_matrix, classification_report\n",
        "import seaborn as sns\n",
        "\n",
        "# Define image dimensions and batch size\n",
        "IMG_SIZE = (128, 128)\n",
        "BATCH_SIZE = 32\n",
        "\n",
        "# Data augmentation and preprocessing\n",
        "datagen = ImageDataGenerator(\n",
        "    rescale=1./255,\n",
        "    validation_split=0.2\n",
        ")\n",
        "\n",
        "# Load training and validation data\n",
        "train_data = datagen.flow_from_directory(\n",
        "    '/content/drive/MyDrive/Dental_V12/Dental_V1/train',\n",
        "    target_size=IMG_SIZE,\n",
        "    batch_size=BATCH_SIZE,\n",
        "    class_mode='binary',\n",
        "    subset='training'\n",
        ")\n",
        "\n",
        "val_data = datagen.flow_from_directory(\n",
        "    '/content/drive/MyDrive/Dental_V12/Dental_V1/train',\n",
        "    target_size=IMG_SIZE,\n",
        "    batch_size=BATCH_SIZE,\n",
        "    class_mode='binary',\n",
        "    subset='validation'\n",
        ")\n",
        "\n",
        "# Build the model using VGG16\n",
        "def build_vgg16_model(input_shape):\n",
        "    base_model = tf.keras.applications.VGG16(\n",
        "        input_shape=input_shape,\n",
        "        include_top=False,\n",
        "        weights='imagenet'\n",
        "    )\n",
        "    base_model.trainable = False  # Freeze base model for transfer learning\n",
        "\n",
        "    inputs = keras.Input(shape=input_shape)\n",
        "    x = base_model(inputs, training=False)\n",
        "    x = layers.Flatten()(x)\n",
        "    x = layers.Dense(256, activation='relu')(x)\n",
        "    x = layers.Dropout(0.5)(x)\n",
        "    outputs = layers.Dense(1, activation='sigmoid')(x)\n",
        "\n",
        "    model = keras.Model(inputs, outputs)\n",
        "    return model\n",
        "\n",
        "# Compile the model\n",
        "vgg16_model = build_vgg16_model((128, 128, 3))\n",
        "vgg16_model.compile(optimizer='adam', loss='binary_crossentropy', metrics=['accuracy'])\n",
        "\n",
        "# Train the model\n",
        "epochs = 10\n",
        "history = vgg16_model.fit(train_data, validation_data=val_data, epochs=epochs)\n",
        "\n",
        "# Load test dataset\n",
        "test_datagen = ImageDataGenerator(rescale=1./255)\n",
        "\n",
        "test_data = test_datagen.flow_from_directory(\n",
        "    '/content/drive/MyDrive/Dental_V12/Dental_V1/val',\n",
        "    target_size=IMG_SIZE,\n",
        "    batch_size=BATCH_SIZE,\n",
        "    class_mode='binary',\n",
        "    shuffle=False\n",
        ")\n",
        "\n",
        "# Get predictions and true labels\n",
        "y_true = test_data.classes\n",
        "y_pred_probs = vgg16_model.predict(test_data)\n",
        "y_pred = (y_pred_probs > 0.5).astype(int).flatten()\n",
        "\n",
        "# Confusion matrix\n",
        "cm = confusion_matrix(y_true, y_pred)\n",
        "plt.figure(figsize=(6, 6))\n",
        "sns.heatmap(cm, annot=True, fmt='d', cmap='Blues', xticklabels=['Normal', 'Abnormal'], yticklabels=['Normal', 'Abnormal'])\n",
        "plt.xlabel('Predicted')\n",
        "plt.ylabel('Actual')\n",
        "plt.title('Confusion Matrix')\n",
        "plt.show()\n",
        "\n",
        "# Classification report\n",
        "print(classification_report(y_true, y_pred, target_names=['Normal', 'Abnormal']))\n",
        "\n",
        "# Function to predict and segregate images\n",
        "def segregate_images(source_folder, model):\n",
        "    normal_folder = os.path.join(source_folder, 'normal')\n",
        "    abnormal_folder = os.path.join(source_folder, 'abnormal')\n",
        "\n",
        "    os.makedirs(normal_folder, exist_ok=True)\n",
        "    os.makedirs(abnormal_folder, exist_ok=True)\n",
        "\n",
        "    for img_name in os.listdir(source_folder):\n",
        "        img_path = os.path.join(source_folder, img_name)\n",
        "\n",
        "        if os.path.isfile(img_path):\n",
        "            img = image.load_img(img_path, target_size=IMG_SIZE)\n",
        "            img_array = image.img_to_array(img) / 255.0\n",
        "            img_array = np.expand_dims(img_array, axis=0)\n",
        "            prediction = model.predict(img_array)\n",
        "\n",
        "            if prediction[0][0] > 0.5:\n",
        "                shutil.copy(img_path, os.path.join(abnormal_folder, img_name))\n",
        "            else:\n",
        "                shutil.copy(img_path, os.path.join(normal_folder, img_name))\n",
        "\n",
        "# Example to save and use the model:\n",
        "# vgg16_model.save(\"/content/drive/MyDrive/Final Year Project/Tooth_classification/vgg16_model.h5\")\n",
        "# loaded_model = keras.models.load_model(\"/content/drive/MyDrive/Final Year Project/Tooth_classification/vgg16_model.h5\")\n",
        "# segregate_images(\"/content/drive/MyDrive/Final Year Project/Tooth_classification/Dental_V1/test\", loaded_model)\n"
      ],
      "metadata": {
        "colab": {
          "base_uri": "https://localhost:8080/",
          "height": 1000
        },
        "id": "kgsIgHoRy6F3",
        "outputId": "f3c0597e-69de-4139-9d3c-ddd9831c7ab0"
      },
      "execution_count": null,
      "outputs": [
        {
          "output_type": "stream",
          "name": "stdout",
          "text": [
            "Found 483 images belonging to 2 classes.\n",
            "Found 120 images belonging to 2 classes.\n",
            "Downloading data from https://storage.googleapis.com/tensorflow/keras-applications/vgg16/vgg16_weights_tf_dim_ordering_tf_kernels_notop.h5\n",
            "\u001b[1m58889256/58889256\u001b[0m \u001b[32m━━━━━━━━━━━━━━━━━━━━\u001b[0m\u001b[37m\u001b[0m \u001b[1m0s\u001b[0m 0us/step\n"
          ]
        },
        {
          "output_type": "stream",
          "name": "stderr",
          "text": [
            "/usr/local/lib/python3.11/dist-packages/keras/src/trainers/data_adapters/py_dataset_adapter.py:121: UserWarning: Your `PyDataset` class should call `super().__init__(**kwargs)` in its constructor. `**kwargs` can include `workers`, `use_multiprocessing`, `max_queue_size`. Do not pass these arguments to `fit()`, as they will be ignored.\n",
            "  self._warn_if_super_not_called()\n"
          ]
        },
        {
          "output_type": "stream",
          "name": "stdout",
          "text": [
            "Epoch 1/10\n",
            "\u001b[1m16/16\u001b[0m \u001b[32m━━━━━━━━━━━━━━━━━━━━\u001b[0m\u001b[37m\u001b[0m \u001b[1m23s\u001b[0m 1s/step - accuracy: 0.4784 - loss: 0.9848 - val_accuracy: 0.5750 - val_loss: 0.7964\n",
            "Epoch 2/10\n",
            "\u001b[1m16/16\u001b[0m \u001b[32m━━━━━━━━━━━━━━━━━━━━\u001b[0m\u001b[37m\u001b[0m \u001b[1m5s\u001b[0m 295ms/step - accuracy: 0.6910 - loss: 0.6398 - val_accuracy: 0.5750 - val_loss: 0.6719\n",
            "Epoch 3/10\n",
            "\u001b[1m16/16\u001b[0m \u001b[32m━━━━━━━━━━━━━━━━━━━━\u001b[0m\u001b[37m\u001b[0m \u001b[1m5s\u001b[0m 339ms/step - accuracy: 0.7955 - loss: 0.4292 - val_accuracy: 0.5667 - val_loss: 0.6582\n",
            "Epoch 4/10\n",
            "\u001b[1m16/16\u001b[0m \u001b[32m━━━━━━━━━━━━━━━━━━━━\u001b[0m\u001b[37m\u001b[0m \u001b[1m5s\u001b[0m 307ms/step - accuracy: 0.8118 - loss: 0.4164 - val_accuracy: 0.4917 - val_loss: 0.8086\n",
            "Epoch 5/10\n",
            "\u001b[1m16/16\u001b[0m \u001b[32m━━━━━━━━━━━━━━━━━━━━\u001b[0m\u001b[37m\u001b[0m \u001b[1m5s\u001b[0m 297ms/step - accuracy: 0.7993 - loss: 0.3982 - val_accuracy: 0.5250 - val_loss: 0.7663\n",
            "Epoch 6/10\n",
            "\u001b[1m16/16\u001b[0m \u001b[32m━━━━━━━━━━━━━━━━━━━━\u001b[0m\u001b[37m\u001b[0m \u001b[1m6s\u001b[0m 353ms/step - accuracy: 0.8937 - loss: 0.2870 - val_accuracy: 0.5917 - val_loss: 0.7197\n",
            "Epoch 7/10\n",
            "\u001b[1m16/16\u001b[0m \u001b[32m━━━━━━━━━━━━━━━━━━━━\u001b[0m\u001b[37m\u001b[0m \u001b[1m5s\u001b[0m 311ms/step - accuracy: 0.8716 - loss: 0.3172 - val_accuracy: 0.5583 - val_loss: 0.7341\n",
            "Epoch 8/10\n",
            "\u001b[1m16/16\u001b[0m \u001b[32m━━━━━━━━━━━━━━━━━━━━\u001b[0m\u001b[37m\u001b[0m \u001b[1m6s\u001b[0m 403ms/step - accuracy: 0.9229 - loss: 0.2522 - val_accuracy: 0.5500 - val_loss: 0.8190\n",
            "Epoch 9/10\n",
            "\u001b[1m16/16\u001b[0m \u001b[32m━━━━━━━━━━━━━━━━━━━━\u001b[0m\u001b[37m\u001b[0m \u001b[1m5s\u001b[0m 300ms/step - accuracy: 0.9281 - loss: 0.2087 - val_accuracy: 0.5667 - val_loss: 0.8475\n",
            "Epoch 10/10\n",
            "\u001b[1m16/16\u001b[0m \u001b[32m━━━━━━━━━━━━━━━━━━━━\u001b[0m\u001b[37m\u001b[0m \u001b[1m5s\u001b[0m 307ms/step - accuracy: 0.9451 - loss: 0.1938 - val_accuracy: 0.5583 - val_loss: 0.9301\n",
            "Found 79 images belonging to 2 classes.\n",
            "\u001b[1m3/3\u001b[0m \u001b[32m━━━━━━━━━━━━━━━━━━━━\u001b[0m\u001b[37m\u001b[0m \u001b[1m5s\u001b[0m 2s/step\n"
          ]
        },
        {
          "output_type": "display_data",
          "data": {
            "text/plain": [
              "<Figure size 600x600 with 2 Axes>"
            ],
            "image/png": "[encoded data removed]"
          },
          "metadata": {}
        },
        {
          "output_type": "stream",
          "name": "stdout",
          "text": [
            "              precision    recall  f1-score   support\n",
            "\n",
            "      Normal       0.84      0.81      0.83        32\n",
            "    Abnormal       0.88      0.89      0.88        47\n",
            "\n",
            "    accuracy                           0.86        79\n",
            "   macro avg       0.86      0.85      0.85        79\n",
            "weighted avg       0.86      0.86      0.86        79\n",
            "\n"
          ]
        }
      ]
    },
    {
      "cell_type": "code",
      "source": [],
      "metadata": {
        "id": "CfYHAVFf6mA5"
      },
      "execution_count": null,
      "outputs": []
    }
  ]
}